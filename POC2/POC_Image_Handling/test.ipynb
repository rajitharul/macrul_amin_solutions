{
 "cells": [
  {
   "cell_type": "code",
   "execution_count": 1,
   "metadata": {},
   "outputs": [
    {
     "name": "stdout",
     "output_type": "stream",
     "text": [
      "GRACE\n"
     ]
    }
   ],
   "source": [
    "print(\"GRACE\")"
   ]
  },
  {
   "cell_type": "code",
   "execution_count": null,
   "metadata": {},
   "outputs": [
    {
     "name": "stdout",
     "output_type": "stream",
     "text": [
      "PDF created successfully at output.pdf\n"
     ]
    }
   ],
   "source": [
    "from PIL import Image\n",
    "import os\n",
    "\n",
    "def images_to_pdf(image_folder, output_pdf_path):\n",
    "    \"\"\"\n",
    "    Combine all images in a folder into a single PDF with 4 images per page,\n",
    "    maintaining their aspect ratio, without reducing resolution, and adding thick white borders.\n",
    "\n",
    "    :param image_folder: Path to the folder containing images.\n",
    "    :param output_pdf_path: Path to save the generated PDF.\n",
    "    \"\"\"\n",
    "    # Get a list of all image files in the folder\n",
    "    image_files = [\n",
    "        os.path.join(image_folder, file)\n",
    "        for file in sorted(os.listdir(image_folder))\n",
    "        if file.lower().endswith((\".png\", \".jpg\", \".jpeg\", \".bmp\", \".gif\"))\n",
    "    ]\n",
    "\n",
    "    if not image_files:\n",
    "        print(\"No images found in the folder.\")\n",
    "        return\n",
    "\n",
    "    # Define page size and layout for 4 images per page\n",
    "    page_width, page_height = 595, 842  # A4 size in points (72 DPI)\n",
    "    max_width, max_height = page_width // 2, page_height // 2  # Maximum size for each image including borders\n",
    "    border_thickness = 20  # Thickness of the white border\n",
    "\n",
    "    pages = []\n",
    "    page = Image.new(\"RGB\", (page_width, page_height), \"white\")\n",
    "    coords = [(0, 0), (page_width // 2, 0), (0, page_height // 2), (page_width // 2, page_height // 2)]\n",
    "    current_image_index = 0\n",
    "\n",
    "    for image_file in image_files:\n",
    "        img = Image.open(image_file).convert(\"RGB\")\n",
    "\n",
    "        # Maintain aspect ratio while scaling dimensions\n",
    "        img_ratio = img.width / img.height\n",
    "        if img.width > img.height:\n",
    "            scale = min((max_width - 2 * border_thickness) / img.width, (max_height - 2 * border_thickness) / img.height)\n",
    "        else:\n",
    "            scale = min((max_width - 2 * border_thickness) / img.width, (max_height - 2 * border_thickness) / img.height)\n",
    "\n",
    "        new_width = int(img.width * scale)\n",
    "        new_height = int(img.height * scale)\n",
    "\n",
    "        # Create a blank canvas larger than the image to include borders\n",
    "        img_canvas = Image.new(\"RGB\", (max_width, max_height), \"white\")\n",
    "        img = img.resize((new_width, new_height), Image.Resampling.LANCZOS)\n",
    "\n",
    "        # Center the scaled image on the canvas with borders\n",
    "        x_offset = (max_width - new_width) // 2\n",
    "        y_offset = (max_height - new_height) // 2\n",
    "        img_canvas.paste(img, (x_offset, y_offset))\n",
    "\n",
    "        # Paste the canvas onto the page\n",
    "        x, y = coords[current_image_index % 4]\n",
    "        page.paste(img_canvas, (x, y))\n",
    "        current_image_index += 1\n",
    "\n",
    "        # Save page when 4 images are added or last image is processed\n",
    "        if current_image_index % 4 == 0 or current_image_index == len(image_files):\n",
    "            pages.append(page)\n",
    "            if current_image_index != len(image_files):\n",
    "                page = Image.new(\"RGB\", (page_width, page_height), \"white\")\n",
    "\n",
    "    # Save all pages into a single PDF\n",
    "    if pages:\n",
    "        pages[0].save(output_pdf_path, save_all=True, append_images=pages[1:])\n",
    "        print(f\"PDF created successfully at {output_pdf_path}\")\n",
    "\n",
    "# Example usage\n",
    "image_folder = \"uploads/32\"  # Path to the folder containing images\n",
    "output_pdf = \"output.pdf\"  # Path to save the generated PDF\n",
    "\n",
    "images_to_pdf(image_folder, output_pdf)\n"
   ]
  },
  {
   "cell_type": "code",
   "execution_count": null,
   "metadata": {},
   "outputs": [],
   "source": []
  }
 ],
 "metadata": {
  "kernelspec": {
   "display_name": "langchain",
   "language": "python",
   "name": "python3"
  },
  "language_info": {
   "codemirror_mode": {
    "name": "ipython",
    "version": 3
   },
   "file_extension": ".py",
   "mimetype": "text/x-python",
   "name": "python",
   "nbconvert_exporter": "python",
   "pygments_lexer": "ipython3",
   "version": "3.12.7"
  }
 },
 "nbformat": 4,
 "nbformat_minor": 2
}
