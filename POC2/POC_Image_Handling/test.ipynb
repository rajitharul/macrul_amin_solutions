{
 "cells": [
  {
   "cell_type": "code",
   "execution_count": 1,
   "metadata": {},
   "outputs": [
    {
     "name": "stdout",
     "output_type": "stream",
     "text": [
      "GRACE\n"
     ]
    }
   ],
   "source": [
    "print(\"GRACE\")"
   ]
  },
  {
   "cell_type": "code",
   "execution_count": 24,
   "metadata": {},
   "outputs": [
    {
     "name": "stdout",
     "output_type": "stream",
     "text": [
      "PDF created successfully at downloads/refference_pictures_35.pdf\n"
     ]
    }
   ],
   "source": [
    "from PIL import Image, ImageDraw, ImageFont\n",
    "import os\n",
    "\n",
    "def refference_images_to_pdf(form_id):\n",
    "    \"\"\"\n",
    "    Combine all images in a folder into a single PDF with 4 images per page,\n",
    "    maintaining their original resolution, and adding thick white borders.\n",
    "\n",
    "    :param image_folder: Path to the folder containing images.\n",
    "    :param output_pdf_path: Path to save the generated PDF.\n",
    "    \"\"\"\n",
    "    output_pdf_path = f\"downloads/refference_pictures_{form_id}.pdf\"\n",
    "    # Example usage\n",
    "    image_folder = f\"uploads/{form_id}\"  # Path to the folder containing images\n",
    "\n",
    "\n",
    "    # Get a list of all image files in the folder\n",
    "    image_files = [\n",
    "        os.path.join(image_folder, file)\n",
    "        for file in sorted(os.listdir(image_folder))\n",
    "        if file.lower().endswith(('.png', '.jpg', '.jpeg', '.bmp', '.gif'))\n",
    "    ]\n",
    "\n",
    "    if not image_files:\n",
    "        print(\"No images found in the folder.\")\n",
    "        return\n",
    "\n",
    "    # Define high-resolution page size (e.g., 300 DPI A4 size)\n",
    "    dpi = 300\n",
    "    page_width, page_height = int(8.27 * dpi), int(11.69 * dpi)  # A4 size in pixels at 300 DPI\n",
    "    max_width, max_height = page_width // 2, page_height // 2  # Maximum size for each image including borders\n",
    "    border_thickness = int(0.1 * dpi)  # Thickness of the white border in pixels\n",
    "\n",
    "    pages = []\n",
    "    page = Image.new(\"RGB\", (page_width, page_height), \"white\")\n",
    "\n",
    "    # Add title \"Reference Pictures\" at the top of the first page\n",
    "    title_font_size = int(0.5 * dpi)  # Font size for the title\n",
    "    title_margin = int(0.3 * dpi)  # Margin below the title\n",
    "    title_canvas = Image.new(\"RGB\", (page_width, title_font_size + title_margin), \"white\")\n",
    "    draw = ImageDraw.Draw(title_canvas)\n",
    "    title_font = ImageFont.truetype(\"arial.ttf\", size=title_font_size)  # Use a TrueType font\n",
    "    title_text = \"Reference Pictures\"\n",
    "    text_bbox = draw.textbbox((0, 0), title_text, font=title_font)  # Calculate text bounding box\n",
    "    text_width = text_bbox[2] - text_bbox[0]\n",
    "    text_height = text_bbox[3] - text_bbox[1]\n",
    "    text_x = (page_width - text_width) // 2\n",
    "    text_y = (title_font_size - text_height) // 2\n",
    "    draw.text((text_x, text_y), title_text, fill=\"black\", font=title_font)\n",
    "    page.paste(title_canvas, (0, 0))\n",
    "\n",
    "    coords = [\n",
    "        (0, title_font_size + title_margin),\n",
    "        (page_width // 2, title_font_size + title_margin),\n",
    "        (0, page_height // 2 + title_font_size + title_margin),\n",
    "        (page_width // 2, page_height // 2 + title_font_size + title_margin),\n",
    "    ]\n",
    "    current_image_index = 0\n",
    "\n",
    "    for image_file in image_files:\n",
    "        img = Image.open(image_file).convert(\"RGB\")\n",
    "\n",
    "        # Maintain aspect ratio while scaling dimensions to fit within the max size\n",
    "        img_ratio = img.width / img.height\n",
    "        if img.width > img.height:\n",
    "            scale = min((max_width - 2 * border_thickness) / img.width, (max_height - 2 * border_thickness) / img.height)\n",
    "        else:\n",
    "            scale = min((max_width - 2 * border_thickness) / img.width, (max_height - 2 * border_thickness) / img.height)\n",
    "\n",
    "        new_width = int(img.width * scale)\n",
    "        new_height = int(img.height * scale)\n",
    "\n",
    "        # Create a blank canvas larger than the image to include borders\n",
    "        img_canvas = Image.new(\"RGB\", (max_width, max_height), \"white\")\n",
    "        x_offset = (max_width - new_width) // 2\n",
    "        y_offset = (max_height - new_height) // 2\n",
    "        img_canvas.paste(img.resize((new_width, new_height), Image.Resampling.LANCZOS), (x_offset, y_offset))\n",
    "\n",
    "        # Paste the canvas onto the page\n",
    "        x, y = coords[current_image_index % 4]\n",
    "        page.paste(img_canvas, (x, y))\n",
    "        current_image_index += 1\n",
    "\n",
    "        # Save page when 4 images are added or last image is processed\n",
    "        if current_image_index % 4 == 0 or current_image_index == len(image_files):\n",
    "            pages.append(page)\n",
    "            if current_image_index != len(image_files):\n",
    "                page = Image.new(\"RGB\", (page_width, page_height), \"white\")\n",
    "\n",
    "    # Save all pages into a single PDF\n",
    "    if pages:\n",
    "        pages[0].save(output_pdf_path, save_all=True, append_images=pages[1:], resolution=dpi)\n",
    "        print(f\"PDF created successfully at {output_pdf_path}\")\n",
    "\n",
    "\n",
    "\n",
    "refference_images_to_pdf(35)\n"
   ]
  },
  {
   "cell_type": "code",
   "execution_count": null,
   "metadata": {},
   "outputs": [],
   "source": []
  }
 ],
 "metadata": {
  "kernelspec": {
   "display_name": "langchain",
   "language": "python",
   "name": "python3"
  },
  "language_info": {
   "codemirror_mode": {
    "name": "ipython",
    "version": 3
   },
   "file_extension": ".py",
   "mimetype": "text/x-python",
   "name": "python",
   "nbconvert_exporter": "python",
   "pygments_lexer": "ipython3",
   "version": "3.12.7"
  }
 },
 "nbformat": 4,
 "nbformat_minor": 2
}
