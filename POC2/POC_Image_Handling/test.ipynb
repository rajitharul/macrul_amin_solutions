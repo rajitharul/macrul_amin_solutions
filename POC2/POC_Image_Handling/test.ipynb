{
 "cells": [
  {
   "cell_type": "code",
   "execution_count": 1,
   "metadata": {},
   "outputs": [
    {
     "name": "stdout",
     "output_type": "stream",
     "text": [
      "GRACE\n"
     ]
    }
   ],
   "source": [
    "print(\"GRACE\")"
   ]
  },
  {
   "cell_type": "code",
   "execution_count": 5,
   "metadata": {},
   "outputs": [
    {
     "data": {
      "text/plain": [
       "''"
      ]
     },
     "execution_count": 5,
     "metadata": {},
     "output_type": "execute_result"
    }
   ],
   "source": [
    "from PIL import Image, ImageDraw, ImageFont\n",
    "from fpdf import FPDF\n",
    "\n",
    "# Set higher resolution and canvas size (300 DPI equivalent)\n",
    "width, height = 1200, 400  # Higher resolution image\n",
    "image = Image.new(\"RGB\", (width, height), color=(255, 255, 255))\n",
    "draw = ImageDraw.Draw(image)\n",
    "\n",
    "# Use a larger font size for better readability\n",
    "try:\n",
    "    font = ImageFont.truetype(\"arial.ttf\", 72)  # Larger font size for high quality\n",
    "except IOError:\n",
    "    font = ImageFont.load_default()\n",
    "\n",
    "# Add the heading text to the image\n",
    "text = \"This is Heading One\"\n",
    "bbox = draw.textbbox((0, 0), text, font=font)\n",
    "text_width = bbox[2] - bbox[0]\n",
    "text_height = bbox[3] - bbox[1]\n",
    "\n",
    "# Center the text in the image\n",
    "draw.text(((width - text_width) / 2, (height - text_height) / 2), text, font=font, fill=(0, 0, 0))\n",
    "\n",
    "# Save the image at maximum quality (PNG format)\n",
    "image.save(\"heading_image.png\", format=\"PNG\", quality=100)\n",
    "\n",
    "# Convert the image to PDF without scaling down the resolution\n",
    "pdf = FPDF()\n",
    "pdf.add_page()\n",
    "pdf.set_auto_page_break(auto=True, margin=15)\n",
    "\n",
    "# Remove the scaling and use the image's original size\n",
    "pdf.image(\"heading_image.png\", x=10, y=10, w=width * 0.1, h=height * 0.1)  # Adjust scale factor if necessary\n",
    "\n",
    "# Save the PDF\n",
    "pdf.output(\"heading_pdf_high_quality.pdf\")\n"
   ]
  },
  {
   "cell_type": "code",
   "execution_count": null,
   "metadata": {},
   "outputs": [],
   "source": []
  }
 ],
 "metadata": {
  "kernelspec": {
   "display_name": "env",
   "language": "python",
   "name": "python3"
  },
  "language_info": {
   "codemirror_mode": {
    "name": "ipython",
    "version": 3
   },
   "file_extension": ".py",
   "mimetype": "text/x-python",
   "name": "python",
   "nbconvert_exporter": "python",
   "pygments_lexer": "ipython3",
   "version": "3.12.5"
  }
 },
 "nbformat": 4,
 "nbformat_minor": 2
}
