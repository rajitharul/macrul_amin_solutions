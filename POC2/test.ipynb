{
 "cells": [
  {
   "cell_type": "code",
   "execution_count": 1,
   "metadata": {},
   "outputs": [
    {
     "name": "stdout",
     "output_type": "stream",
     "text": [
      "GRACE\n"
     ]
    }
   ],
   "source": [
    "print(\"GRACE\")"
   ]
  },
  {
   "cell_type": "code",
   "execution_count": 16,
   "metadata": {},
   "outputs": [],
   "source": [
    "def generate_cover_pdf(form_id, property_name):\n",
    "    # Create download/property_cover_page directory if it doesn't exist\n",
    "    cover_page_dir = os.path.join(\"downloads\", \"property_cover_page\")\n",
    "    os.makedirs(cover_page_dir, exist_ok=True)\n",
    "    \n",
    "    # Define PDF path in the new directory\n",
    "    pdf_path = os.path.join(cover_page_dir, f\"cover_{form_id}.pdf\")\n",
    "    \n",
    "    # Create canvas\n",
    "    c = canvas.Canvas(pdf_path, pagesize=A4)\n",
    "    width, height = A4\n",
    "    \n",
    "    # Background color\n",
    "    c.setFillColorRGB(1, 1, 1)  # White background\n",
    "    c.rect(0, 0, width, height, fill=1, stroke=0)\n",
    "    \n",
    "    # Company Header (dark red color)\n",
    "    c.setFillColorRGB(0.5, 0, 0)  # Dark red color\n",
    "    c.setFont(\"Helvetica-Bold\", 24)  # Larger font size\n",
    "    c.drawCentredString(width/2, height - 2*inch, \"Amin Constructions\")\n",
    "    \n",
    "    # Subtitle (dark red color)\n",
    "    c.setFont(\"Helvetica-Bold\", 18)  # Bold font with larger size\n",
    "    c.drawCentredString(width/2, height - 2.5*inch, \"Fire Risk Assessment Report\")\n",
    "    \n",
    "    # Try to find and add cover image\n",
    "    cover_image_folder = os.path.join(\"uploads\", form_id, \"cover_image\")\n",
    "    cover_images = [f for f in os.listdir(cover_image_folder) if f.startswith(f\"building_cover_image_{form_id}\")]\n",
    "    \n",
    "    if cover_images:\n",
    "        cover_image_path = os.path.join(cover_image_folder, cover_images[0])\n",
    "        \n",
    "        # Open image to get dimensions\n",
    "        from PIL import Image\n",
    "        img = Image.open(cover_image_path)\n",
    "        img_width, img_height = img.size\n",
    "        \n",
    "        # Adjust image size (increased from 1/3 to 1/2 of A4 width for a larger image)\n",
    "        img_display_size = width / 2\n",
    "        aspect_ratio = img_height / img_width\n",
    "        scaled_height = img_display_size * aspect_ratio\n",
    "        \n",
    "        # Center the image\n",
    "        x_centered = (width - img_display_size) / 2\n",
    "        y_positioned = height / 2 - scaled_height / 2\n",
    "        \n",
    "        # Draw the image\n",
    "        c.drawImage(cover_image_path, x_centered, y_positioned, width=img_display_size, height=scaled_height)\n",
    "    \n",
    "    # Property Details Below Image (dark black color)\n",
    "    c.setFillColorRGB(0, 0, 0)  # Dark black color\n",
    "    c.setFont(\"Helvetica-Bold\", 16)\n",
    "    c.drawCentredString(width/2, height / 2 - scaled_height/2 - 50, f\"Property: {property_name}\")\n",
    "    \n",
    "    # Form ID\n",
    "    c.setFont(\"Helvetica\", 12)\n",
    "    c.drawCentredString(width/2, height / 2 - scaled_height/2 - 80, f\"Assessment ID: {form_id}\")\n",
    "    \n",
    "    # Date\n",
    "    current_date = datetime.now().strftime(\"%d %B %Y\")\n",
    "    c.drawCentredString(width/2, height / 2 - scaled_height/2 - 110, f\"Date: {current_date}\")\n",
    "    \n",
    "    # Footer (dark black color)\n",
    "    c.setFillColorRGB(0, 0, 0)  # Dark black color\n",
    "    c.setFont(\"Helvetica\", 10)\n",
    "    c.drawCentredString(width/2, 50, \"© 2024 Amin Constructions. All Rights Reserved.\")\n",
    "    \n",
    "    # Save the PDF\n",
    "    c.save()\n",
    "    return pdf_path\n"
   ]
  },
  {
   "cell_type": "code",
   "execution_count": 17,
   "metadata": {},
   "outputs": [],
   "source": [
    "\n",
    "\n",
    "cover_pdf_path = generate_cover_pdf(\"10\", \"Webmly\")"
   ]
  },
  {
   "cell_type": "code",
   "execution_count": 18,
   "metadata": {},
   "outputs": [
    {
     "data": {
      "text/plain": [
       "'downloads\\\\property_cover_page\\\\cover_10.pdf'"
      ]
     },
     "execution_count": 18,
     "metadata": {},
     "output_type": "execute_result"
    }
   ],
   "source": [
    "cover_pdf_path"
   ]
  },
  {
   "cell_type": "code",
   "execution_count": null,
   "metadata": {},
   "outputs": [],
   "source": []
  }
 ],
 "metadata": {
  "kernelspec": {
   "display_name": "langchain",
   "language": "python",
   "name": "python3"
  },
  "language_info": {
   "codemirror_mode": {
    "name": "ipython",
    "version": 3
   },
   "file_extension": ".py",
   "mimetype": "text/x-python",
   "name": "python",
   "nbconvert_exporter": "python",
   "pygments_lexer": "ipython3",
   "version": "3.12.7"
  }
 },
 "nbformat": 4,
 "nbformat_minor": 2
}
