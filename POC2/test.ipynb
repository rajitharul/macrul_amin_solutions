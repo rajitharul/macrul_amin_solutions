{
 "cells": [
  {
   "cell_type": "code",
   "execution_count": null,
   "metadata": {},
   "outputs": [],
   "source": [
    "print(\"GRACE\")"
   ]
  },
  {
   "cell_type": "code",
   "execution_count": null,
   "metadata": {},
   "outputs": [],
   "source": [
    "%pip install openpyxl"
   ]
  },
  {
   "cell_type": "code",
   "execution_count": null,
   "metadata": {},
   "outputs": [],
   "source": [
    "%pip install pandas openpyxl pdfkit xlsxwriter\n"
   ]
  },
  {
   "cell_type": "code",
   "execution_count": 23,
   "metadata": {},
   "outputs": [
    {
     "name": "stdout",
     "output_type": "stream",
     "text": [
      "Image saved at downloads/second_page/second_page_16.pdf\n"
     ]
    }
   ],
   "source": [
    "from PIL import Image, ImageDraw, ImageFont\n",
    "import platform\n",
    "import os \n",
    "\n",
    "def generate_second_page_with_info(address, assessment_date, next_assessment_date, assessor, responsible_person, form_id):\n",
    "    # Load the image\n",
    "    image_path = \"second_page_template.png\"\n",
    "    # Define the output path with dynamic form_id\n",
    "    output_path = f\"downloads/second_page/second_page_{form_id}.pdf\"\n",
    "\n",
    "    # Check if the directory exists, and create it if it doesn't\n",
    "    directory = os.path.dirname(output_path)\n",
    "    if not os.path.exists(directory):\n",
    "        os.makedirs(directory)\n",
    "\n",
    "    \n",
    "    image = Image.open(image_path)\n",
    "\n",
    "    # Create a drawing object\n",
    "    draw = ImageDraw.Draw(image)\n",
    "\n",
    "    # Specify the correct font path for Mac\n",
    "    font_path_mac = \"/Library/Fonts/Arial Unicode.ttf\"  # Correct font for Mac\n",
    "\n",
    "    # Try to detect if the system is Mac or Linux\n",
    "    system = platform.system()\n",
    "\n",
    "    if system == 'Darwin':  # For macOS\n",
    "        font_path = font_path_mac\n",
    "    elif system == 'Linux':  # For Linux\n",
    "        font_path = \"/usr/share/fonts/truetype/dejavu/DejaVuSans-Bold.ttf\"  # Example for Linux\n",
    "    else:\n",
    "        font_path = \"/path/to/your/font.ttf\"  # Provide your custom font\n",
    "\n",
    "    # Load the font with a larger size\n",
    "    font = ImageFont.truetype(font_path, size=30)  # Adjust font size as needed\n",
    "\n",
    "    # List of texts and their corresponding positions\n",
    "    texts = [\n",
    "        (f\"{address}\", (200, 550)),   \n",
    "        (f\"{assessment_date}\", (200, 670)),\n",
    "        (f\"{next_assessment_date}\", (200, 780)),\n",
    "        (f\"{assessor}\", (200, 900)),\n",
    "        (f\"{responsible_person}\", (200, 1100)),\n",
    "    ]\n",
    "\n",
    "    # Set text color to black\n",
    "    text_color = (0, 0, 0)  # Black color (R, G, B)\n",
    "\n",
    "    # Add text to the image\n",
    "    for text, position in texts:\n",
    "        draw.text(position, text, fill=text_color, font=font)\n",
    "\n",
    "    # Convert the image to RGB if it's not already in that mode\n",
    "    image = image.convert(\"RGB\")\n",
    "\n",
    "    # Save the image as a PDF\n",
    "    image.save(output_path, \"PDF\")\n",
    "\n",
    "\n",
    "    print(f\"Image saved at {output_path}\")\n",
    "\n"
   ]
  },
  {
   "cell_type": "code",
   "execution_count": null,
   "metadata": {},
   "outputs": [],
   "source": []
  }
 ],
 "metadata": {
  "kernelspec": {
   "display_name": "env",
   "language": "python",
   "name": "python3"
  },
  "language_info": {
   "codemirror_mode": {
    "name": "ipython",
    "version": 3
   },
   "file_extension": ".py",
   "mimetype": "text/x-python",
   "name": "python",
   "nbconvert_exporter": "python",
   "pygments_lexer": "ipython3",
   "version": "3.12.5"
  }
 },
 "nbformat": 4,
 "nbformat_minor": 2
}
