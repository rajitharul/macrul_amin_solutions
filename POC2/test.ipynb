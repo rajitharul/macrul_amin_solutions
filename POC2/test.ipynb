{
 "cells": [
  {
   "cell_type": "code",
   "execution_count": 1,
   "metadata": {},
   "outputs": [
    {
     "name": "stdout",
     "output_type": "stream",
     "text": [
      "GRACE\n"
     ]
    }
   ],
   "source": [
    "print(\"GRACE\")"
   ]
  },
  {
   "cell_type": "code",
   "execution_count": 3,
   "metadata": {},
   "outputs": [],
   "source": [
    "from PIL import Image, ImageDraw, ImageFont\n",
    "import os\n",
    "from datetime import datetime\n",
    "import reportlab\n",
    "from reportlab.lib.pagesizes import A4\n",
    "from reportlab.pdfgen import canvas\n",
    "from reportlab.lib.units import inch\n",
    "\n",
    "from PIL import Image, ImageDraw, ImageFont\n",
    "import os\n"
   ]
  },
  {
   "cell_type": "code",
   "execution_count": 29,
   "metadata": {},
   "outputs": [],
   "source": [
    "import os\n",
    "from reportlab.lib.pagesizes import A4\n",
    "from reportlab.lib.units import inch\n",
    "from reportlab.pdfgen import canvas\n",
    "from PIL import Image\n",
    "from datetime import datetime\n",
    "\n",
    "def reference_images_to_pdf(form_id):\n",
    "    # Path to the folder containing images\n",
    "    image_folder = f\"uploads/{form_id}\"\n",
    "    \n",
    "    # Output PDF path\n",
    "    output_pdf_path = f\"downloads/reference_pictures_{form_id}.pdf\"\n",
    "    \n",
    "    # Ensure downloads directory exists\n",
    "    os.makedirs(os.path.dirname(output_pdf_path), exist_ok=True)\n",
    "    \n",
    "    # Create PDF canvas\n",
    "    c = canvas.Canvas(output_pdf_path, pagesize=A4)\n",
    "    width, height = A4\n",
    "    \n",
    "    # Calculate image size (1/3rd of A4 width)\n",
    "    img_size = width / 3\n",
    "    \n",
    "    # Margins and padding\n",
    "    margin_x = inch  # Left and right margins\n",
    "    margin_y = 0.5 * inch  # Reduced top and bottom margins\n",
    "    vertical_padding = 0.5 * inch  # Space between rows of images\n",
    "    horizontal_padding = 0.5 * inch  # Space between columns of images\n",
    "    \n",
    "    # White background\n",
    "    c.setFillColorRGB(1, 1, 1)\n",
    "    c.rect(0, 0, width, height, fill=1, stroke=0)\n",
    "    \n",
    "    # Header for Reference Images\n",
    "    c.setFillColorRGB(0.2, 0.2, 0.2)  # Dark gray\n",
    "    c.setFont(\"Helvetica-Bold\", 20)\n",
    "    c.drawCentredString(width/2, height - margin_y, \"Reference Images\")\n",
    "    \n",
    "    # Get list of image files\n",
    "    image_files = [f for f in os.listdir(image_folder) \n",
    "                   if f.lower().endswith(('.png', '.jpg', '.jpeg', '.gif', '.bmp'))]\n",
    "    \n",
    "    # Track vertical position and page number\n",
    "    y_position = height - margin_y - 1.5*inch\n",
    "    page_number = 1\n",
    "    x_positions = [\n",
    "        margin_x, \n",
    "        margin_x + img_size + horizontal_padding, \n",
    "        margin_x + 2*(img_size + horizontal_padding)\n",
    "    ]\n",
    "    current_column = 0\n",
    "    \n",
    "    # Add images to PDF\n",
    "    for filename in image_files:\n",
    "        # Full path to image\n",
    "        image_path = os.path.join(image_folder, filename)\n",
    "        \n",
    "        # Open image to get dimensions\n",
    "        img = Image.open(image_path)\n",
    "        img_width, img_height = img.size\n",
    "        \n",
    "        # Calculate scaled image size maintaining aspect ratio\n",
    "        aspect_ratio = img_height / img_width\n",
    "        scaled_height = img_size * aspect_ratio\n",
    "        \n",
    "        # Check if we need a new page\n",
    "        if y_position - scaled_height < margin_y:\n",
    "            c.showPage()\n",
    "            page_number += 1\n",
    "            y_position = height - margin_y - 1.5*inch\n",
    "            current_column = 0\n",
    "        \n",
    "        # Draw image\n",
    "        c.drawImage(image_path, x_positions[current_column], y_position - scaled_height, \n",
    "                    width=img_size, height=scaled_height)\n",
    "        \n",
    "        # Move to next column/row\n",
    "        current_column += 1\n",
    "        if current_column > 2:\n",
    "            current_column = 0\n",
    "            y_position -= scaled_height + vertical_padding\n",
    "    \n",
    "    # Save PDF\n",
    "    c.save()\n",
    "    \n",
    "    return output_pdf_path"
   ]
  },
  {
   "cell_type": "code",
   "execution_count": 30,
   "metadata": {},
   "outputs": [
    {
     "data": {
      "text/plain": [
       "'downloads/reference_pictures_16.pdf'"
      ]
     },
     "execution_count": 30,
     "metadata": {},
     "output_type": "execute_result"
    }
   ],
   "source": [
    "reference_images_to_pdf(16)"
   ]
  },
  {
   "cell_type": "code",
   "execution_count": null,
   "metadata": {},
   "outputs": [],
   "source": []
  }
 ],
 "metadata": {
  "kernelspec": {
   "display_name": "env",
   "language": "python",
   "name": "python3"
  },
  "language_info": {
   "codemirror_mode": {
    "name": "ipython",
    "version": 3
   },
   "file_extension": ".py",
   "mimetype": "text/x-python",
   "name": "python",
   "nbconvert_exporter": "python",
   "pygments_lexer": "ipython3",
   "version": "3.12.5"
  }
 },
 "nbformat": 4,
 "nbformat_minor": 2
}
