{
 "cells": [
  {
   "cell_type": "code",
   "execution_count": 1,
   "metadata": {},
   "outputs": [
    {
     "name": "stdout",
     "output_type": "stream",
     "text": [
      "GRACE\n"
     ]
    }
   ],
   "source": [
    "print(\"GRACE\")"
   ]
  },
  {
   "cell_type": "code",
   "execution_count": null,
   "metadata": {},
   "outputs": [],
   "source": [
    "import pdfkit\n",
    "\n",
    "# Convert an HTML file to PDF\n",
    "pdfkit.from_file('building_data_report.html', 'output.pdf')\n",
    "\n",
    "# Convert an HTML string to PDF\n",
    "html_string = '<h1>Hello, PDF!</h1>'\n",
    "pdfkit.from_string(html_string, 'output.pdf')"
   ]
  }
 ],
 "metadata": {
  "kernelspec": {
   "display_name": "excel_to_pdf_env",
   "language": "python",
   "name": "python3"
  },
  "language_info": {
   "codemirror_mode": {
    "name": "ipython",
    "version": 3
   },
   "file_extension": ".py",
   "mimetype": "text/x-python",
   "name": "python",
   "nbconvert_exporter": "python",
   "pygments_lexer": "ipython3",
   "version": "3.12.5"
  }
 },
 "nbformat": 4,
 "nbformat_minor": 2
}
